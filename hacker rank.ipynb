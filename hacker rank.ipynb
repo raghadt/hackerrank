{
 "cells": [
  {
   "cell_type": "code",
   "execution_count": 1,
   "metadata": {},
   "outputs": [],
   "source": [
    "arr = [4,4,4,5,5,5,5,5,9,11,11,13,13,16,18]"
   ]
  },
  {
   "cell_type": "code",
   "execution_count": 18,
   "metadata": {
    "collapsed": true,
    "jupyter": {
     "outputs_hidden": true
    }
   },
   "outputs": [
    {
     "name": "stdout",
     "output_type": "stream",
     "text": [
      "0\n",
      "2\n",
      "\n",
      "1\n",
      "5\n",
      "\n",
      "2\n",
      "7\n",
      "\n",
      "3\n",
      "13\n",
      "\n",
      "4\n",
      "18\n",
      "\n",
      "5\n",
      "22\n",
      "\n",
      "6\n",
      "25\n",
      "\n",
      "7\n",
      "27\n",
      "\n",
      "8\n",
      "29\n",
      "\n",
      "9\n",
      "32\n",
      "\n",
      "10\n",
      "34\n",
      "\n",
      "11\n",
      "37\n",
      "\n",
      "12\n",
      "39\n",
      "\n",
      "13\n",
      "41\n",
      "\n",
      "14\n",
      "43\n",
      "\n"
     ]
    }
   ],
   "source": [
    "count=0\n",
    "i=0\n",
    "for i in range(i,15):\n",
    "    print(i)\n",
    "    for j in range(i,15):\n",
    "        if arr[i]==arr[j]:\n",
    "            count+=1\n",
    "    i = i + count-1\n",
    "    print(i)\n",
    "    print()"
   ]
  },
  {
   "cell_type": "code",
   "execution_count": 1,
   "metadata": {
    "collapsed": true,
    "jupyter": {
     "outputs_hidden": true
    }
   },
   "outputs": [
    {
     "ename": "SyntaxError",
     "evalue": "invalid syntax (<ipython-input-1-ee6be2da9f89>, line 1)",
     "output_type": "error",
     "traceback": [
      "\u001b[0;36m  File \u001b[0;32m\"<ipython-input-1-ee6be2da9f89>\"\u001b[0;36m, line \u001b[0;32m1\u001b[0m\n\u001b[0;31m    1 1 1 0 0 0\u001b[0m\n\u001b[0m      ^\u001b[0m\n\u001b[0;31mSyntaxError\u001b[0m\u001b[0;31m:\u001b[0m invalid syntax\n"
     ]
    }
   ],
   "source": [
    "1 1 1 0 0 0\n",
    "0 1 0 0 0 0\n",
    "1 1 1 0 0 0\n",
    "0 0 2 4 4 0\n",
    "0 0 0 2 0 0\n",
    "0 0 1 2 4 0"
   ]
  },
  {
   "cell_type": "code",
   "execution_count": 2,
   "metadata": {
    "collapsed": true,
    "jupyter": {
     "outputs_hidden": true
    }
   },
   "outputs": [
    {
     "ename": "SyntaxError",
     "evalue": "invalid syntax (<ipython-input-2-1125105eefef>, line 1)",
     "output_type": "error",
     "traceback": [
      "\u001b[0;36m  File \u001b[0;32m\"<ipython-input-2-1125105eefef>\"\u001b[0;36m, line \u001b[0;32m1\u001b[0m\n\u001b[0;31m    a b c\u001b[0m\n\u001b[0m      ^\u001b[0m\n\u001b[0;31mSyntaxError\u001b[0m\u001b[0;31m:\u001b[0m invalid syntax\n"
     ]
    }
   ],
   "source": [
    "a b c\n",
    "  d\n",
    "e f g"
   ]
  },
  {
   "cell_type": "code",
   "execution_count": 3,
   "metadata": {},
   "outputs": [
    {
     "name": "stdin",
     "output_type": "stream",
     "text": [
      " 1 1 1 0 0 0\n",
      " 0 1 0 0 0 0\n",
      " 1 1 1 0 0 0\n",
      " 0 0 2 4 4 0\n",
      " 0 0 0 2 0 0\n",
      " 0 0 1 2 4 0\n"
     ]
    }
   ],
   "source": [
    "\n",
    "arr = []\n",
    "\n",
    "for _ in range(6):\n",
    "    arr.append(list(map(int, input().rstrip().split())))\n"
   ]
  },
  {
   "cell_type": "code",
   "execution_count": 4,
   "metadata": {},
   "outputs": [
    {
     "data": {
      "text/plain": [
       "[[1, 1, 1, 0, 0, 0],\n",
       " [0, 1, 0, 0, 0, 0],\n",
       " [1, 1, 1, 0, 0, 0],\n",
       " [0, 0, 2, 4, 4, 0],\n",
       " [0, 0, 0, 2, 0, 0],\n",
       " [0, 0, 1, 2, 4, 0]]"
      ]
     },
     "execution_count": 4,
     "metadata": {},
     "output_type": "execute_result"
    }
   ],
   "source": [
    "arr"
   ]
  },
  {
   "cell_type": "code",
   "execution_count": 31,
   "metadata": {},
   "outputs": [
    {
     "ename": "TypeError",
     "evalue": "'int' object is not iterable",
     "output_type": "error",
     "traceback": [
      "\u001b[0;31m---------------------------------------------------------------------------\u001b[0m",
      "\u001b[0;31mTypeError\u001b[0m                                 Traceback (most recent call last)",
      "\u001b[0;32m<ipython-input-31-79d33d73e22b>\u001b[0m in \u001b[0;36m<module>\u001b[0;34m\u001b[0m\n\u001b[0;32m----> 1\u001b[0;31m \u001b[0msum\u001b[0m\u001b[0;34m(\u001b[0m\u001b[0marr\u001b[0m\u001b[0;34m[\u001b[0m\u001b[0mi\u001b[0m\u001b[0;34m]\u001b[0m\u001b[0;34m[\u001b[0m\u001b[0mj\u001b[0m\u001b[0;34m]\u001b[0m\u001b[0;34m+\u001b[0m\u001b[0marr\u001b[0m\u001b[0;34m[\u001b[0m\u001b[0mi\u001b[0m\u001b[0;34m]\u001b[0m\u001b[0;34m[\u001b[0m\u001b[0mj\u001b[0m\u001b[0;34m+\u001b[0m\u001b[0;36m1\u001b[0m\u001b[0;34m]\u001b[0m\u001b[0;34m)\u001b[0m\u001b[0;34m\u001b[0m\u001b[0;34m\u001b[0m\u001b[0m\n\u001b[0m",
      "\u001b[0;31mTypeError\u001b[0m: 'int' object is not iterable"
     ]
    }
   ],
   "source": [
    "sum(arr[i][j]+arr[i][j+1])"
   ]
  },
  {
   "cell_type": "markdown",
   "metadata": {},
   "source": []
  },
  {
   "cell_type": "code",
   "execution_count": 6,
   "metadata": {},
   "outputs": [
    {
     "data": {
      "text/plain": [
       "4"
      ]
     },
     "execution_count": 6,
     "metadata": {},
     "output_type": "execute_result"
    }
   ],
   "source": [
    "len(arr)-2"
   ]
  },
  {
   "cell_type": "code",
   "execution_count": 13,
   "metadata": {},
   "outputs": [
    {
     "data": {
      "text/plain": [
       "3"
      ]
     },
     "execution_count": 13,
     "metadata": {},
     "output_type": "execute_result"
    }
   ],
   "source": [
    "sum(arr[0])"
   ]
  },
  {
   "cell_type": "code",
   "execution_count": 32,
   "metadata": {},
   "outputs": [],
   "source": [
    "val = []"
   ]
  },
  {
   "cell_type": "code",
   "execution_count": 34,
   "metadata": {},
   "outputs": [],
   "source": [
    "for i in range(0,len(arr)-2):\n",
    "    for j in range(0,len(arr)-2):\n",
    "        v =  arr[i][j]+arr[i][j+1]+arr[i][j+2]+arr[i+1][j+1]+arr[i+2][j]+arr[i+2][j+1]+arr[i+2][j+2]\n",
    "        val.append(v)\n",
    "\n",
    "max(val)"
   ]
  },
  {
   "cell_type": "code",
   "execution_count": 37,
   "metadata": {},
   "outputs": [
    {
     "data": {
      "text/plain": [
       "16"
      ]
     },
     "execution_count": 37,
     "metadata": {},
     "output_type": "execute_result"
    }
   ],
   "source": [
    "len(val)"
   ]
  },
  {
   "cell_type": "code",
   "execution_count": 38,
   "metadata": {},
   "outputs": [],
   "source": [
    "arr = []"
   ]
  },
  {
   "cell_type": "code",
   "execution_count": 39,
   "metadata": {},
   "outputs": [],
   "source": [
    "arr = [10 ,20, 20, 10, 10, 30, 50, 10, 20]"
   ]
  },
  {
   "cell_type": "code",
   "execution_count": 40,
   "metadata": {},
   "outputs": [],
   "source": [
    "arr.sort()"
   ]
  },
  {
   "cell_type": "code",
   "execution_count": 41,
   "metadata": {},
   "outputs": [
    {
     "data": {
      "text/plain": [
       "[10, 10, 10, 10, 20, 20, 20, 30, 50]"
      ]
     },
     "execution_count": 41,
     "metadata": {},
     "output_type": "execute_result"
    }
   ],
   "source": [
    "arr"
   ]
  },
  {
   "cell_type": "code",
   "execution_count": 43,
   "metadata": {},
   "outputs": [],
   "source": [
    "count = {}\n",
    "for i in arr:\n",
    "    if i in count.keys():\n",
    "        count[i]+=1\n",
    "    else:\n",
    "        count[i]=1\n",
    "        \n",
    "c=0\n",
    "for k, v in count.items():\n",
    "    if v%2==0:\n",
    "        c+=v//2\n",
    "    else:\n",
    "        if v>1:\n",
    "            c+=(v-1)//2"
   ]
  },
  {
   "cell_type": "code",
   "execution_count": 53,
   "metadata": {},
   "outputs": [
    {
     "data": {
      "text/plain": [
       "{10: 4, 20: 3, 30: 1, 50: 1}"
      ]
     },
     "execution_count": 53,
     "metadata": {},
     "output_type": "execute_result"
    }
   ],
   "source": [
    "count"
   ]
  },
  {
   "cell_type": "code",
   "execution_count": 64,
   "metadata": {},
   "outputs": [],
   "source": [
    "c=0\n",
    "for k, v in count.items():\n",
    "    c += v // 2"
   ]
  },
  {
   "cell_type": "code",
   "execution_count": 65,
   "metadata": {},
   "outputs": [
    {
     "data": {
      "text/plain": [
       "3"
      ]
     },
     "execution_count": 65,
     "metadata": {},
     "output_type": "execute_result"
    }
   ],
   "source": [
    "c"
   ]
  },
  {
   "cell_type": "code",
   "execution_count": 77,
   "metadata": {},
   "outputs": [],
   "source": [
    "from collections import Counter\n",
    "\n",
    "# n = int(input())\n",
    "c = Counter(arr)\n",
    "ans = 0\n",
    "\n"
   ]
  },
  {
   "cell_type": "code",
   "execution_count": 78,
   "metadata": {},
   "outputs": [
    {
     "data": {
      "text/plain": [
       "Counter({10: 4, 20: 3, 30: 1, 50: 1})"
      ]
     },
     "execution_count": 78,
     "metadata": {},
     "output_type": "execute_result"
    }
   ],
   "source": [
    "c"
   ]
  },
  {
   "cell_type": "code",
   "execution_count": 74,
   "metadata": {},
   "outputs": [
    {
     "ename": "TypeError",
     "evalue": "'int' object is not subscriptable",
     "output_type": "error",
     "traceback": [
      "\u001b[0;31m---------------------------------------------------------------------------\u001b[0m",
      "\u001b[0;31mTypeError\u001b[0m                                 Traceback (most recent call last)",
      "\u001b[0;32m<ipython-input-74-9f26dbd9908b>\u001b[0m in \u001b[0;36m<module>\u001b[0;34m\u001b[0m\n\u001b[0;32m----> 1\u001b[0;31m \u001b[0mc\u001b[0m\u001b[0;34m[\u001b[0m\u001b[0;34m'10'\u001b[0m\u001b[0;34m]\u001b[0m\u001b[0;34m\u001b[0m\u001b[0;34m\u001b[0m\u001b[0m\n\u001b[0m",
      "\u001b[0;31mTypeError\u001b[0m: 'int' object is not subscriptable"
     ]
    }
   ],
   "source": []
  },
  {
   "cell_type": "code",
   "execution_count": 82,
   "metadata": {},
   "outputs": [
    {
     "name": "stdout",
     "output_type": "stream",
     "text": [
      "10\n",
      "20\n",
      "30\n",
      "50\n"
     ]
    }
   ],
   "source": [
    "for x in c:\n",
    "    print(x)\n",
    "    ans += c[x] // 2"
   ]
  },
  {
   "cell_type": "code",
   "execution_count": 85,
   "metadata": {},
   "outputs": [
    {
     "data": {
      "text/plain": [
       "4"
      ]
     },
     "execution_count": 85,
     "metadata": {},
     "output_type": "execute_result"
    }
   ],
   "source": []
  },
  {
   "cell_type": "code",
   "execution_count": 291,
   "metadata": {},
   "outputs": [],
   "source": [
    "from collections import Counter"
   ]
  },
  {
   "cell_type": "code",
   "execution_count": 91,
   "metadata": {},
   "outputs": [],
   "source": [
    "St = \"UDDDUDUU\"\n",
    "# convert string to list\n",
    "St = list(st)\n",
    "St_count = Counter(St)\n",
    "count = St_count['U']-St_count['D']+1"
   ]
  },
  {
   "cell_type": "code",
   "execution_count": 142,
   "metadata": {},
   "outputs": [
    {
     "data": {
      "text/plain": [
       "3"
      ]
     },
     "execution_count": 142,
     "metadata": {},
     "output_type": "execute_result"
    }
   ],
   "source": [
    "10//3"
   ]
  },
  {
   "cell_type": "code",
   "execution_count": 141,
   "metadata": {},
   "outputs": [
    {
     "name": "stdout",
     "output_type": "stream",
     "text": [
      "1\n"
     ]
    }
   ],
   "source": [
    "s = \"UDDDUDUU\"\n",
    "St = list(s)\n",
    "\n",
    "count = 0\n",
    "valley_count=0\n",
    "for i,x in enumerate(St):\n",
    "    if x == 'U':\n",
    "        count+=1\n",
    "        if count==0:\n",
    "            valley_count+=1\n",
    "    else:\n",
    "        count-=1\n",
    "\n",
    "\n",
    "print(valley_count)"
   ]
  },
  {
   "cell_type": "code",
   "execution_count": 123,
   "metadata": {},
   "outputs": [
    {
     "data": {
      "text/plain": [
       "12"
      ]
     },
     "execution_count": 123,
     "metadata": {},
     "output_type": "execute_result"
    }
   ],
   "source": [
    "len(St)"
   ]
  },
  {
   "cell_type": "code",
   "execution_count": 124,
   "metadata": {},
   "outputs": [],
   "source": [
    "for i,x in enumerate(St):\n",
    "    if x == 'U':\n",
    "        St[i]=-1\n",
    "    else:\n",
    "        St[i]=1"
   ]
  },
  {
   "cell_type": "code",
   "execution_count": 125,
   "metadata": {},
   "outputs": [
    {
     "data": {
      "text/plain": [
       "[1, 1, -1, -1, 1, 1, -1, 1, -1, -1, -1, 1]"
      ]
     },
     "execution_count": 125,
     "metadata": {},
     "output_type": "execute_result"
    }
   ],
   "source": [
    "St"
   ]
  },
  {
   "cell_type": "code",
   "execution_count": 126,
   "metadata": {},
   "outputs": [
    {
     "name": "stdout",
     "output_type": "stream",
     "text": [
      "1\n",
      "2\n",
      "1\n",
      "0\n",
      "1\n",
      "2\n",
      "1\n",
      "2\n",
      "1\n",
      "0\n",
      "-1\n",
      "0\n"
     ]
    }
   ],
   "source": [
    "count = 0\n",
    "c=0\n",
    "for i in St:\n",
    "    count+=i\n",
    "    print(count)\n",
    "    if count==0:\n",
    "        c+=1"
   ]
  },
  {
   "cell_type": "code",
   "execution_count": 127,
   "metadata": {},
   "outputs": [
    {
     "data": {
      "text/plain": [
       "2"
      ]
     },
     "execution_count": 127,
     "metadata": {},
     "output_type": "execute_result"
    }
   ],
   "source": [
    "c-1"
   ]
  },
  {
   "cell_type": "code",
   "execution_count": null,
   "metadata": {},
   "outputs": [],
   "source": []
  },
  {
   "cell_type": "code",
   "execution_count": 143,
   "metadata": {},
   "outputs": [
    {
     "data": {
      "text/plain": [
       "3"
      ]
     },
     "execution_count": 143,
     "metadata": {},
     "output_type": "execute_result"
    }
   ],
   "source": [
    "10//3"
   ]
  },
  {
   "cell_type": "code",
   "execution_count": 144,
   "metadata": {},
   "outputs": [
    {
     "data": {
      "text/plain": [
       "1"
      ]
     },
     "execution_count": 144,
     "metadata": {},
     "output_type": "execute_result"
    }
   ],
   "source": [
    "10%3"
   ]
  },
  {
   "cell_type": "markdown",
   "metadata": {},
   "source": [
    "Repeated String"
   ]
  },
  {
   "cell_type": "code",
   "execution_count": 4,
   "metadata": {},
   "outputs": [],
   "source": [
    "from collections import Counter"
   ]
  },
  {
   "cell_type": "code",
   "execution_count": 27,
   "metadata": {},
   "outputs": [],
   "source": [
    "s = \"a\"\n",
    "L=len(s)\n",
    "n=100000000"
   ]
  },
  {
   "cell_type": "code",
   "execution_count": 28,
   "metadata": {},
   "outputs": [
    {
     "name": "stdout",
     "output_type": "stream",
     "text": [
      "100000000\n"
     ]
    }
   ],
   "source": [
    "print(s.count('a') * (n//L) + s[:n % L].count('a'))"
   ]
  },
  {
   "cell_type": "code",
   "execution_count": 18,
   "metadata": {},
   "outputs": [
    {
     "name": "stdout",
     "output_type": "stream",
     "text": [
      "a\n",
      "Counter({'a': 1})\n",
      "7\n",
      "7\n"
     ]
    }
   ],
   "source": [
    "le = len(st)\n",
    "c = Counter(st)\n",
    "a_count = c['a']\n",
    "a_count = (n//le) * a_count\n",
    "remaind = n%le\n",
    "if (remaind) !=0:\n",
    "    c = Counter(st[:remaind])\n",
    "    a_count = a_count + c['a']\n",
    "\n",
    "print(a_count)"
   ]
  },
  {
   "cell_type": "markdown",
   "metadata": {},
   "source": [
    "### Jumping on the Clouds"
   ]
  },
  {
   "cell_type": "code",
   "execution_count": 29,
   "metadata": {},
   "outputs": [],
   "source": [
    "ar = [0 ,0 ,1 ,0 ,0 ,1 ,0]"
   ]
  },
  {
   "cell_type": "code",
   "execution_count": 40,
   "metadata": {
    "collapsed": true,
    "jupyter": {
     "outputs_hidden": true
    }
   },
   "outputs": [
    {
     "name": "stdout",
     "output_type": "stream",
     "text": [
      "0\n",
      "1\n",
      "\n",
      "skip\n",
      "0\n",
      "1\n",
      "\n",
      "skip\n",
      "1\n",
      "1\n",
      "\n",
      "0\n",
      "2\n",
      "\n",
      "0\n",
      "3\n",
      "\n",
      "skip\n",
      "1\n",
      "3\n",
      "\n",
      "0\n",
      "4\n",
      "\n"
     ]
    }
   ],
   "source": [
    "before = 0\n",
    "jumps = 1\n",
    "for i in ar:\n",
    "    print(i)\n",
    "    print(jumps)\n",
    "    print()\n",
    "    if i==0 and before==0:\n",
    "        print('skip')\n",
    "        before=i\n",
    "        continue\n",
    "    else:\n",
    "        jumps +=1\n",
    "    before=i"
   ]
  },
  {
   "cell_type": "code",
   "execution_count": 36,
   "metadata": {},
   "outputs": [
    {
     "data": {
      "text/plain": [
       "5"
      ]
     },
     "execution_count": 36,
     "metadata": {},
     "output_type": "execute_result"
    }
   ],
   "source": [
    "jumps"
   ]
  },
  {
   "cell_type": "markdown",
   "metadata": {},
   "source": [
    "## minimumBribe"
   ]
  },
  {
   "cell_type": "code",
   "execution_count": 52,
   "metadata": {},
   "outputs": [],
   "source": [
    "Q = [2 ,1 ,5 ,3, 4]\n",
    "Q = [P-1 for P in Q]"
   ]
  },
  {
   "cell_type": "code",
   "execution_count": 53,
   "metadata": {},
   "outputs": [
    {
     "data": {
      "text/plain": [
       "[1, 0, 4, 2, 3]"
      ]
     },
     "execution_count": 53,
     "metadata": {},
     "output_type": "execute_result"
    }
   ],
   "source": [
    "Q"
   ]
  },
  {
   "cell_type": "code",
   "execution_count": 72,
   "metadata": {},
   "outputs": [],
   "source": [
    "moves=0"
   ]
  },
  {
   "cell_type": "code",
   "execution_count": 73,
   "metadata": {},
   "outputs": [
    {
     "name": "stdout",
     "output_type": "stream",
     "text": [
      "----\n",
      "0 index -> 1\n",
      "1\n",
      "\n",
      "----\n",
      "1 index -> 0\n",
      "-1\n",
      "\n",
      "j is 0\n",
      "----\n",
      "2 index -> 4\n",
      "2\n",
      "\n",
      "----\n",
      "3 index -> 2\n",
      "-1\n",
      "\n",
      "j is 1\n",
      "j is 2\n",
      "----\n",
      "4 index -> 3\n",
      "-1\n",
      "\n",
      "j is 2\n",
      "j is 3\n"
     ]
    }
   ],
   "source": [
    "for i,P in enumerate(Q):\n",
    "    print('----')\n",
    "    print('{} index -> {}'.format(i, P))\n",
    "    print(P-i)\n",
    "    print()\n",
    "    if P-i > 2:\n",
    "        print('chatoic')\n",
    "        \n",
    "    for j in range(max(P-1,0),i):\n",
    "        print('j is {}'.format(j))\n",
    "        if Q[j] > P:\n",
    "            moves += 1\n"
   ]
  },
  {
   "cell_type": "code",
   "execution_count": 74,
   "metadata": {},
   "outputs": [
    {
     "data": {
      "text/plain": [
       "3"
      ]
     },
     "execution_count": 74,
     "metadata": {},
     "output_type": "execute_result"
    }
   ],
   "source": [
    "moves"
   ]
  },
  {
   "cell_type": "code",
   "execution_count": 56,
   "metadata": {},
   "outputs": [
    {
     "name": "stdout",
     "output_type": "stream",
     "text": [
      "6\n"
     ]
    }
   ],
   "source": [
    "# arr = [2, 1, 5, 3, 4]\n",
    "arr = [1 ,2, 5 ,3 ,7 ,8 ,6 ,4]\n",
    "\n",
    "swap=0\n",
    "index=0\n",
    "for i in arr:\n",
    "    index+=1\n",
    "    if i>index:\n",
    "        if (i-index)<=2:\n",
    "            swap+= i-index\n",
    "        else:\n",
    "            print('Too chaotic')\n",
    "            break;\n",
    "\n",
    "print(swap)\n",
    "        \n",
    "\n"
   ]
  },
  {
   "cell_type": "markdown",
   "metadata": {},
   "source": [
    "# Dynamic Programming"
   ]
  },
  {
   "cell_type": "markdown",
   "metadata": {},
   "source": [
    "### Knapsack problem"
   ]
  },
  {
   "cell_type": "code",
   "execution_count": 23,
   "metadata": {},
   "outputs": [
    {
     "ename": "IndexError",
     "evalue": "list index out of range",
     "output_type": "error",
     "traceback": [
      "\u001b[0;31m---------------------------------------------------------------------------\u001b[0m",
      "\u001b[0;31mIndexError\u001b[0m                                Traceback (most recent call last)",
      "\u001b[0;32m<ipython-input-23-764e979c316f>\u001b[0m in \u001b[0;36m<module>\u001b[0;34m\u001b[0m\n\u001b[0;32m----> 1\u001b[0;31m \u001b[0mweight\u001b[0m\u001b[0;34m[\u001b[0m\u001b[0mlen\u001b[0m\u001b[0;34m(\u001b[0m\u001b[0mweight\u001b[0m\u001b[0;34m)\u001b[0m\u001b[0;34m]\u001b[0m\u001b[0;34m\u001b[0m\u001b[0;34m\u001b[0m\u001b[0m\n\u001b[0m",
      "\u001b[0;31mIndexError\u001b[0m: list index out of range"
     ]
    }
   ],
   "source": [
    "weight[len(weight)]"
   ]
  },
  {
   "cell_type": "code",
   "execution_count": 26,
   "metadata": {},
   "outputs": [],
   "source": [
    "weight=[10,4,20,5,7]\n",
    "benifit=[10,15,3,1,4]\n",
    "\n",
    "def knapsack(i, remainder):\n",
    "    if i== len(weight)-1:\n",
    "        return 0\n",
    "\n",
    "    choice1 = knapsack(i+1, remainder)\n",
    "    print(choice1)\n",
    "    \n",
    "    choice2=0\n",
    "\n",
    "    if remainder>=weight[i]:\n",
    "        choice2=knapsack(i+1, remainder-weight[i]) + benifit[i]\n",
    "    \n",
    "    return max(choice1, choice2)"
   ]
  },
  {
   "cell_type": "code",
   "execution_count": 27,
   "metadata": {},
   "outputs": [
    {
     "name": "stdout",
     "output_type": "stream",
     "text": [
      "0\n",
      "1\n",
      "1\n",
      "0\n",
      "1\n",
      "16\n",
      "0\n",
      "0\n",
      "0\n"
     ]
    },
    {
     "data": {
      "text/plain": [
       "16"
      ]
     },
     "execution_count": 27,
     "metadata": {},
     "output_type": "execute_result"
    }
   ],
   "source": [
    "initial_weight = 12\n",
    "knapsack(0, initial_weight)"
   ]
  },
  {
   "cell_type": "code",
   "execution_count": 47,
   "metadata": {},
   "outputs": [],
   "source": [
    "n=5\n",
    "m=4\n",
    "\n",
    "arr = [1,2,3,4,5]\n",
    "\n",
    "sub_arr = arr[0:n-1]\n",
    "final_arr = arr[m:]\n",
    "\n",
    "final_arr.extend(sub_arr)\n"
   ]
  },
  {
   "cell_type": "code",
   "execution_count": 48,
   "metadata": {},
   "outputs": [
    {
     "data": {
      "text/plain": [
       "[1, 2, 3, 4]"
      ]
     },
     "execution_count": 48,
     "metadata": {},
     "output_type": "execute_result"
    }
   ],
   "source": [
    "sub_arr"
   ]
  },
  {
   "cell_type": "code",
   "execution_count": 49,
   "metadata": {},
   "outputs": [
    {
     "data": {
      "text/plain": [
       "[5, 1, 2, 3, 4]"
      ]
     },
     "execution_count": 49,
     "metadata": {},
     "output_type": "execute_result"
    }
   ],
   "source": [
    "final_arr"
   ]
  },
  {
   "cell_type": "markdown",
   "metadata": {},
   "source": [
    "### Minimum swamp"
   ]
  },
  {
   "cell_type": "code",
   "execution_count": 83,
   "metadata": {},
   "outputs": [],
   "source": []
  },
  {
   "cell_type": "code",
   "execution_count": 90,
   "metadata": {},
   "outputs": [
    {
     "name": "stdout",
     "output_type": "stream",
     "text": [
      "4\n",
      "1\n",
      "------\n",
      "2\n",
      "1\n",
      "------\n",
      "3\n",
      "1\n",
      "------\n",
      "3\n"
     ]
    }
   ],
   "source": [
    "arr = [4 ,3 ,1 ,2]\n",
    "swaps=0\n",
    "for i in range(0, 4 - 1):\n",
    "    while arr[i] != i + 1:\n",
    "        print(arr[i])\n",
    "        print(i + 1)\n",
    "\n",
    "        print('------')\n",
    "        t = arr[arr[i] - 1]\n",
    "        arr[arr[i] - 1] = arr[i]\n",
    "        arr[i] = t\n",
    "        swaps += 1\n",
    "\n",
    "print(swaps)"
   ]
  },
  {
   "cell_type": "code",
   "execution_count": 129,
   "metadata": {},
   "outputs": [
    {
     "name": "stdout",
     "output_type": "stream",
     "text": [
      "[3, 2, 0, 1]\n",
      "0\n",
      "this should be arr[i]: 1\n",
      "this should be temp: 3\n",
      "new arr[i]: 1\n",
      "[1, 2, 0, 3]\n",
      "0\n",
      "this should be arr[i]: 2\n",
      "this should be temp: 1\n",
      "new arr[i]: 2\n",
      "[2, 1, 0, 3]\n",
      "0\n",
      "this should be arr[i]: 0\n",
      "this should be temp: 2\n",
      "new arr[i]: 0\n"
     ]
    }
   ],
   "source": [
    "arr = [4 ,3 ,1 ,2]\n",
    "swaps=0\n",
    "\n",
    "arr = [i-1 for i in arr]\n",
    "\n",
    "for i in range(0, len(arr)-1):\n",
    "#     print('---------------------')\n",
    "#     print(i)\n",
    "    while i != arr[i]:\n",
    "        print(arr)\n",
    "        print(i)\n",
    "        \n",
    "        temp = arr[i]\n",
    "        arr[i]=arr[temp]\n",
    "        arr[temp]=temp\n",
    "\n",
    "\n",
    "#         print(\"this should be arr[i]: {}\".format(arr[i]) )\n",
    "#         print(\"this should be temp: {}\".format(temp) )\n",
    "#         print(\"new arr[i]: {}\".format(arr[i]) )\n",
    "\n",
    "\n",
    "        swaps+=1\n",
    "    \n",
    "        "
   ]
  },
  {
   "cell_type": "code",
   "execution_count": 130,
   "metadata": {},
   "outputs": [
    {
     "data": {
      "text/plain": [
       "3"
      ]
     },
     "execution_count": 130,
     "metadata": {},
     "output_type": "execute_result"
    }
   ],
   "source": [
    "swaps"
   ]
  },
  {
   "cell_type": "code",
   "execution_count": 131,
   "metadata": {},
   "outputs": [
    {
     "data": {
      "text/plain": [
       "[0, 1, 2, 3]"
      ]
     },
     "execution_count": 131,
     "metadata": {},
     "output_type": "execute_result"
    }
   ],
   "source": [
    "arr"
   ]
  },
  {
   "cell_type": "code",
   "execution_count": null,
   "metadata": {},
   "outputs": [],
   "source": []
  },
  {
   "cell_type": "code",
   "execution_count": 136,
   "metadata": {},
   "outputs": [
    {
     "name": "stdin",
     "output_type": "stream",
     "text": [
      " 5 3\n",
      " 1 2 100\n",
      " 2 5 100\n",
      " 3 4 100\n"
     ]
    }
   ],
   "source": [
    "nm = input().split()\n",
    "\n",
    "n = int(nm[0])\n",
    "\n",
    "m = int(nm[1])\n",
    "\n",
    "queries = []\n",
    "\n",
    "for _ in range(m):\n",
    "    queries.append(list(map(int, input().rstrip().split())))"
   ]
  },
  {
   "cell_type": "code",
   "execution_count": 137,
   "metadata": {},
   "outputs": [
    {
     "data": {
      "text/plain": [
       "[[1, 2, 100], [2, 5, 100], [3, 4, 100]]"
      ]
     },
     "execution_count": 137,
     "metadata": {},
     "output_type": "execute_result"
    }
   ],
   "source": [
    "queries"
   ]
  },
  {
   "cell_type": "code",
   "execution_count": 138,
   "metadata": {},
   "outputs": [
    {
     "data": {
      "text/plain": [
       "5"
      ]
     },
     "execution_count": 138,
     "metadata": {},
     "output_type": "execute_result"
    }
   ],
   "source": [
    "n"
   ]
  },
  {
   "cell_type": "code",
   "execution_count": 139,
   "metadata": {},
   "outputs": [
    {
     "data": {
      "text/plain": [
       "3"
      ]
     },
     "execution_count": 139,
     "metadata": {},
     "output_type": "execute_result"
    }
   ],
   "source": [
    "len(queries)"
   ]
  },
  {
   "cell_type": "code",
   "execution_count": 143,
   "metadata": {},
   "outputs": [
    {
     "data": {
      "text/plain": [
       "1"
      ]
     },
     "execution_count": 143,
     "metadata": {},
     "output_type": "execute_result"
    }
   ],
   "source": [
    "queries[0]"
   ]
  },
  {
   "cell_type": "code",
   "execution_count": 158,
   "metadata": {},
   "outputs": [],
   "source": []
  },
  {
   "cell_type": "code",
   "execution_count": 159,
   "metadata": {},
   "outputs": [
    {
     "data": {
      "text/plain": [
       "[0, 0, 0, 0, 0]"
      ]
     },
     "execution_count": 159,
     "metadata": {},
     "output_type": "execute_result"
    }
   ],
   "source": [
    "arr"
   ]
  },
  {
   "cell_type": "code",
   "execution_count": 163,
   "metadata": {
    "collapsed": true,
    "jupyter": {
     "outputs_hidden": true
    }
   },
   "outputs": [
    {
     "name": "stdout",
     "output_type": "stream",
     "text": [
      "0\n",
      "1\n",
      "\n",
      "1\n",
      "2\n",
      "3\n",
      "4\n",
      "\n",
      "2\n",
      "3\n",
      "\n"
     ]
    }
   ],
   "source": [
    "arr = [0] * n\n",
    "for i in range(len(queries)):\n",
    "    val = queries[i][2]\n",
    "    for j in range(queries[i][0]-1,queries[i][1]):\n",
    "        arr[j]+=val\n",
    "\n",
    "return max(arr)"
   ]
  },
  {
   "cell_type": "code",
   "execution_count": 165,
   "metadata": {},
   "outputs": [],
   "source": []
  },
  {
   "cell_type": "code",
   "execution_count": 174,
   "metadata": {},
   "outputs": [],
   "source": [
    "difArr = [0 for i in range(n+1)]\n",
    "for i in queries:\n",
    "    difArr[i[0]-1] += i[2]\n",
    "    difArr[i[1]] -= i[2]\n",
    "    "
   ]
  },
  {
   "cell_type": "code",
   "execution_count": 175,
   "metadata": {},
   "outputs": [
    {
     "data": {
      "text/plain": [
       "[100, 100, 0, 0, -100, -100]"
      ]
     },
     "execution_count": 175,
     "metadata": {},
     "output_type": "execute_result"
    }
   ],
   "source": [
    "difArr"
   ]
  },
  {
   "cell_type": "code",
   "execution_count": 176,
   "metadata": {},
   "outputs": [],
   "source": [
    "maxm = 0\n",
    "tsum =0"
   ]
  },
  {
   "cell_type": "code",
   "execution_count": 177,
   "metadata": {},
   "outputs": [],
   "source": [
    "for i in difArr:\n",
    "    tsum +=i\n",
    "    if tsum > maxm:\n",
    "        maxm = tsum\n",
    "    "
   ]
  },
  {
   "cell_type": "code",
   "execution_count": 178,
   "metadata": {},
   "outputs": [
    {
     "data": {
      "text/plain": [
       "0"
      ]
     },
     "execution_count": 178,
     "metadata": {},
     "output_type": "execute_result"
    }
   ],
   "source": [
    "tsum"
   ]
  },
  {
   "cell_type": "code",
   "execution_count": 186,
   "metadata": {},
   "outputs": [],
   "source": [
    "arr = [0]*n"
   ]
  },
  {
   "cell_type": "code",
   "execution_count": 187,
   "metadata": {},
   "outputs": [
    {
     "data": {
      "text/plain": [
       "[0, 0, 0, 0, 0]"
      ]
     },
     "execution_count": 187,
     "metadata": {},
     "output_type": "execute_result"
    }
   ],
   "source": [
    "arr"
   ]
  },
  {
   "cell_type": "code",
   "execution_count": 190,
   "metadata": {},
   "outputs": [
    {
     "data": {
      "text/plain": [
       "[100, 100, 0, 0, -100]"
      ]
     },
     "execution_count": 190,
     "metadata": {},
     "output_type": "execute_result"
    }
   ],
   "source": [
    "arr"
   ]
  },
  {
   "cell_type": "code",
   "execution_count": 197,
   "metadata": {},
   "outputs": [
    {
     "data": {
      "text/plain": [
       "200"
      ]
     },
     "execution_count": 197,
     "metadata": {},
     "output_type": "execute_result"
    }
   ],
   "source": [
    "maxval"
   ]
  },
  {
   "cell_type": "code",
   "execution_count": 202,
   "metadata": {},
   "outputs": [
    {
     "data": {
      "text/plain": [
       "[[1, 2, 100], [2, 5, 100], [3, 4, 100]]"
      ]
     },
     "execution_count": 202,
     "metadata": {},
     "output_type": "execute_result"
    }
   ],
   "source": [
    "queries"
   ]
  },
  {
   "cell_type": "code",
   "execution_count": 206,
   "metadata": {},
   "outputs": [
    {
     "name": "stdout",
     "output_type": "stream",
     "text": [
      "[1, 2, 100]\n",
      "[2, 5, 100]\n",
      "[3, 4, 100]\n"
     ]
    }
   ],
   "source": [
    "for i in queries:\n",
    "    print(i)"
   ]
  },
  {
   "cell_type": "code",
   "execution_count": 209,
   "metadata": {},
   "outputs": [
    {
     "name": "stdout",
     "output_type": "stream",
     "text": [
      "1\n",
      "2\n",
      "2\n",
      "3\n",
      "4\n"
     ]
    }
   ],
   "source": [
    "arr = [0]*n\n",
    "\n",
    "for i in queries:\n",
    "#     print(i[0])\n",
    "    val = i[2]\n",
    "    arr[i[0]-1]+= val\n",
    "    if i[1]<n:\n",
    "#         print(i[1])\n",
    "        arr[i[1]]-= val\n",
    "    \n",
    "\n",
    "maxm = 0\n",
    "sum_max = 0\n",
    "\n",
    "for i in arr:\n",
    "    sum_max += i\n",
    "    if sum_max > maxm:\n",
    "        maxm = sum_max\n",
    "\n",
    "return maxm"
   ]
  },
  {
   "cell_type": "code",
   "execution_count": 210,
   "metadata": {},
   "outputs": [
    {
     "data": {
      "text/plain": [
       "200"
      ]
     },
     "execution_count": 210,
     "metadata": {},
     "output_type": "execute_result"
    }
   ],
   "source": [
    "maxm"
   ]
  },
  {
   "cell_type": "markdown",
   "metadata": {},
   "source": [
    "### ransom note"
   ]
  },
  {
   "cell_type": "code",
   "execution_count": 296,
   "metadata": {},
   "outputs": [],
   "source": [
    "mag= \"apgo clm w lxkvg mwz elo bg elo lxkvg elo apgo apgo w elo bg\"\n",
    "note = \"elo lxkvg bg mwz clm w\"\n",
    "mag = mag.split()\n",
    "note = note.split()\n",
    "\n",
    "mag_dict = Counter(mag)\n",
    "note_dict = {i:0 for i in note}\n",
    "\n",
    "count = 0\n",
    "for i in note:\n",
    "    if i in mag_dict.keys() and mag_dict[i]!=0:\n",
    "        count+=1\n",
    "        mag_dict[i]-=1\n",
    "            \n",
    "if count==len(note):\n",
    "    print('Yes')\n",
    "else:\n",
    "    print('No')"
   ]
  },
  {
   "cell_type": "code",
   "execution_count": 301,
   "metadata": {},
   "outputs": [
    {
     "name": "stdout",
     "output_type": "stream",
     "text": [
      "Yes\n"
     ]
    }
   ],
   "source": [
    "count = 0\n",
    "for i in note:\n",
    "    if i in mag_dict.keys() and mag_dict[i]!=0:\n",
    "        count+=1\n",
    "        mag_dict[i]-=1\n",
    "            \n",
    "if count==len(note):\n",
    "    print('Yes')\n",
    "else:\n",
    "    print('No')"
   ]
  },
  {
   "cell_type": "code",
   "execution_count": 278,
   "metadata": {},
   "outputs": [
    {
     "name": "stdout",
     "output_type": "stream",
     "text": [
      "6\n"
     ]
    }
   ],
   "source": [
    "print(count)"
   ]
  },
  {
   "cell_type": "code",
   "execution_count": 279,
   "metadata": {},
   "outputs": [
    {
     "data": {
      "text/plain": [
       "6"
      ]
     },
     "execution_count": 279,
     "metadata": {},
     "output_type": "execute_result"
    }
   ],
   "source": [
    "len(note)"
   ]
  },
  {
   "cell_type": "code",
   "execution_count": 244,
   "metadata": {},
   "outputs": [
    {
     "name": "stdout",
     "output_type": "stream",
     "text": [
      "not found\n"
     ]
    }
   ],
   "source": [
    "for i in note:\n",
    "    found = False\n",
    "    high = len(mag)-1\n",
    "    low=0\n",
    "    while not found:\n",
    "        mid = (low + high)//2\n",
    "#         print(mag[mid])\n",
    "        \n",
    "        if mag[mid]==i:\n",
    "            found=True\n",
    "        elif i <mag[mid]:\n",
    "            high= mid\n",
    "        else:\n",
    "            low = mid\n",
    "        if low==0 or mid==len(high):\n",
    "            break\n",
    "    if not found:\n",
    "        print('not found')\n",
    "        break\n",
    "        "
   ]
  },
  {
   "cell_type": "code",
   "execution_count": null,
   "metadata": {},
   "outputs": [],
   "source": []
  },
  {
   "cell_type": "markdown",
   "metadata": {},
   "source": [
    "### Frequency Queries"
   ]
  },
  {
   "cell_type": "code",
   "execution_count": 341,
   "metadata": {},
   "outputs": [
    {
     "name": "stdin",
     "output_type": "stream",
     "text": [
      "  8\n",
      "  1 5  \n",
      " 1 6  \n",
      " 3 2  \n",
      " 1 10  \n",
      " 1 10 \n",
      "  1 6  \n",
      " 2 5  \n",
      " 3 2\n"
     ]
    },
    {
     "ename": "NameError",
     "evalue": "name 'freqQuery' is not defined",
     "output_type": "error",
     "traceback": [
      "\u001b[0;31m---------------------------------------------------------------------------\u001b[0m",
      "\u001b[0;31mNameError\u001b[0m                                 Traceback (most recent call last)",
      "\u001b[0;32m<ipython-input-341-e68dbd34c3f1>\u001b[0m in \u001b[0;36m<module>\u001b[0;34m\u001b[0m\n\u001b[1;32m      6\u001b[0m     \u001b[0mqueries\u001b[0m\u001b[0;34m.\u001b[0m\u001b[0mappend\u001b[0m\u001b[0;34m(\u001b[0m\u001b[0mlist\u001b[0m\u001b[0;34m(\u001b[0m\u001b[0mmap\u001b[0m\u001b[0;34m(\u001b[0m\u001b[0mint\u001b[0m\u001b[0;34m,\u001b[0m \u001b[0minput\u001b[0m\u001b[0;34m(\u001b[0m\u001b[0;34m)\u001b[0m\u001b[0;34m.\u001b[0m\u001b[0mrstrip\u001b[0m\u001b[0;34m(\u001b[0m\u001b[0;34m)\u001b[0m\u001b[0;34m.\u001b[0m\u001b[0msplit\u001b[0m\u001b[0;34m(\u001b[0m\u001b[0;34m)\u001b[0m\u001b[0;34m)\u001b[0m\u001b[0;34m)\u001b[0m\u001b[0;34m)\u001b[0m\u001b[0;34m\u001b[0m\u001b[0;34m\u001b[0m\u001b[0m\n\u001b[1;32m      7\u001b[0m \u001b[0;34m\u001b[0m\u001b[0m\n\u001b[0;32m----> 8\u001b[0;31m \u001b[0mans\u001b[0m \u001b[0;34m=\u001b[0m \u001b[0mfreqQuery\u001b[0m\u001b[0;34m(\u001b[0m\u001b[0mqueries\u001b[0m\u001b[0;34m)\u001b[0m\u001b[0;34m\u001b[0m\u001b[0;34m\u001b[0m\u001b[0m\n\u001b[0m",
      "\u001b[0;31mNameError\u001b[0m: name 'freqQuery' is not defined"
     ]
    }
   ],
   "source": [
    "\n",
    "    q = int(input().strip())\n",
    "\n",
    "    queries = []\n",
    "\n",
    "    for _ in range(q):\n",
    "        queries.append(list(map(int, input().rstrip().split())))\n",
    "\n",
    "    ans = freqQuery(queries)\n"
   ]
  },
  {
   "cell_type": "code",
   "execution_count": 303,
   "metadata": {},
   "outputs": [
    {
     "data": {
      "text/plain": [
       "[[1, 5], [1, 6], [3, 2], [1, 10], [1, 10], [1, 6], [2, 5], [3, 2]]"
      ]
     },
     "execution_count": 303,
     "metadata": {},
     "output_type": "execute_result"
    }
   ],
   "source": [
    "queries"
   ]
  },
  {
   "cell_type": "code",
   "execution_count": 323,
   "metadata": {},
   "outputs": [],
   "source": [
    "d = {}\n",
    "d['k']=1"
   ]
  },
  {
   "cell_type": "code",
   "execution_count": 325,
   "metadata": {},
   "outputs": [
    {
     "data": {
      "text/plain": [
       "1"
      ]
     },
     "execution_count": 325,
     "metadata": {},
     "output_type": "execute_result"
    }
   ],
   "source": [
    "d['k']"
   ]
  },
  {
   "cell_type": "code",
   "execution_count": 326,
   "metadata": {},
   "outputs": [],
   "source": [
    "from collections import defaultdict"
   ]
  },
  {
   "cell_type": "code",
   "execution_count": 327,
   "metadata": {},
   "outputs": [],
   "source": [
    "a = defaultdict(int) # num:cnt"
   ]
  },
  {
   "cell_type": "code",
   "execution_count": 329,
   "metadata": {},
   "outputs": [],
   "source": [
    "a['k']+=1"
   ]
  },
  {
   "cell_type": "code",
   "execution_count": 330,
   "metadata": {},
   "outputs": [
    {
     "data": {
      "text/plain": [
       "1"
      ]
     },
     "execution_count": 330,
     "metadata": {},
     "output_type": "execute_result"
    }
   ],
   "source": [
    "a['k']"
   ]
  },
  {
   "cell_type": "code",
   "execution_count": 331,
   "metadata": {},
   "outputs": [
    {
     "name": "stdout",
     "output_type": "stream",
     "text": [
      "0\n",
      "1\n"
     ]
    }
   ],
   "source": [
    "f_d = defaultdict(set)\n",
    "for i in queries:\n",
    "    order = i[0]\n",
    "    key = i[1]\n",
    "    \n",
    "    if order==1:\n",
    "            f_d[key]+=1\n",
    "    elif order==2:\n",
    "        if key in f_d.keys():\n",
    "            f_d[key]-=1\n",
    "    \n",
    "        if key in f_d.values():\n",
    "            print(1)\n",
    "        else:\n",
    "            print(0)\n",
    "\n",
    "        "
   ]
  },
  {
   "cell_type": "code",
   "execution_count": 321,
   "metadata": {},
   "outputs": [
    {
     "data": {
      "text/plain": [
       "{5: 0, 6: 2, 10: 2}"
      ]
     },
     "execution_count": 321,
     "metadata": {},
     "output_type": "execute_result"
    }
   ],
   "source": [
    "f_d"
   ]
  },
  {
   "cell_type": "code",
   "execution_count": 306,
   "metadata": {},
   "outputs": [],
   "source": [
    "freq_dict['k'] = 'k'"
   ]
  },
  {
   "cell_type": "code",
   "execution_count": 307,
   "metadata": {},
   "outputs": [
    {
     "data": {
      "text/plain": [
       "{'k': 'k'}"
      ]
     },
     "execution_count": 307,
     "metadata": {},
     "output_type": "execute_result"
    }
   ],
   "source": [
    "freq_dict"
   ]
  },
  {
   "cell_type": "code",
   "execution_count": 343,
   "metadata": {},
   "outputs": [
    {
     "data": {
      "text/plain": [
       "[[1, 5], [1, 6], [3, 2], [1, 10], [1, 10], [1, 6], [2, 5], [3, 2]]"
      ]
     },
     "execution_count": 343,
     "metadata": {},
     "output_type": "execute_result"
    }
   ],
   "source": [
    "queries"
   ]
  },
  {
   "cell_type": "code",
   "execution_count": 342,
   "metadata": {},
   "outputs": [
    {
     "name": "stdout",
     "output_type": "stream",
     "text": [
      "defaultdict(<class 'int'>, {0: 0, 1: 3})\n",
      "defaultdict(<class 'int'>, {0: 0, 1: 2, 2: 1})\n",
      "[0, 1]\n"
     ]
    }
   ],
   "source": [
    "elementFreq = defaultdict(int)\n",
    "freqCount = defaultdict(int)\n",
    "ans = []\n",
    "for i, j in queries:\n",
    "    if i == 1:\n",
    "        if freqCount[elementFreq[j]]:\n",
    "            print(freqCount)\n",
    "            freqCount[elementFreq[j]] -= 1\n",
    "        elementFreq[j] += 1\n",
    "        freqCount[elementFreq[j]] += 1            \n",
    "    elif i == 2:\n",
    "        if elementFreq[j]:\n",
    "            freqCount[elementFreq[j]] -= 1\n",
    "            elementFreq[j] -= 1\n",
    "            freqCount[elementFreq[j]] += 1\n",
    "    else:\n",
    "        # operation 3\n",
    "        if j in freqCount and freqCount[j]:\n",
    "            ans.append(1)\n",
    "        else:\n",
    "            ans.append(0)\n",
    "print(ans)"
   ]
  },
  {
   "cell_type": "code",
   "execution_count": 337,
   "metadata": {},
   "outputs": [
    {
     "data": {
      "text/plain": [
       "0"
      ]
     },
     "execution_count": 337,
     "metadata": {},
     "output_type": "execute_result"
    }
   ],
   "source": [
    "v"
   ]
  },
  {
   "cell_type": "code",
   "execution_count": null,
   "metadata": {},
   "outputs": [],
   "source": []
  },
  {
   "cell_type": "code",
   "execution_count": 345,
   "metadata": {},
   "outputs": [],
   "source": [
    "s = \"abba\""
   ]
  },
  {
   "cell_type": "code",
   "execution_count": 350,
   "metadata": {},
   "outputs": [
    {
     "data": {
      "text/plain": [
       "4"
      ]
     },
     "execution_count": 350,
     "metadata": {},
     "output_type": "execute_result"
    }
   ],
   "source": [
    "n"
   ]
  },
  {
   "cell_type": "code",
   "execution_count": 352,
   "metadata": {},
   "outputs": [
    {
     "name": "stdout",
     "output_type": "stream",
     "text": [
      "n-l: 4\n",
      "0\n",
      "['a']\n",
      "1\n",
      "['b']\n",
      "2\n",
      "['b']\n",
      "3\n",
      "['a']\n",
      "n-l: 3\n",
      "0\n",
      "['a', 'b']\n",
      "1\n",
      "['b', 'b']\n",
      "2\n",
      "['b', 'a']\n",
      "n-l: 2\n",
      "0\n",
      "['a', 'b', 'b']\n",
      "1\n",
      "['b', 'b', 'a']\n",
      "4\n"
     ]
    }
   ],
   "source": [
    "n = len(s)\n",
    "res = 0\n",
    "for l in range(1, n):\n",
    "    cnt = {}\n",
    "    print('n-l: {}'.format(n - l + 1))\n",
    "    \n",
    "    for i in range(n - l + 1):\n",
    "        print(i)\n",
    "        subs = list(s[i:i + l])\n",
    "        print(subs)\n",
    "        subs.sort()\n",
    "        subs = ''.join(subs)\n",
    "        if subs in cnt:\n",
    "            cnt[subs] += 1\n",
    "        else:\n",
    "            cnt[subs] = 1\n",
    "        res += cnt[subs] - 1\n",
    "print(res)\n"
   ]
  },
  {
   "cell_type": "markdown",
   "metadata": {},
   "source": [
    "### min children"
   ]
  },
  {
   "cell_type": "code",
   "execution_count": 399,
   "metadata": {},
   "outputs": [],
   "source": [
    "s1 = 'OUDFRMYMAW'\n",
    "s2 = 'AWHYFCCMQX'"
   ]
  },
  {
   "cell_type": "code",
   "execution_count": 394,
   "metadata": {},
   "outputs": [],
   "source": [
    "s1 = list(s1)\n",
    "s2 = list(s2)\n",
    "\n",
    "# s1.sort()\n",
    "# s2.sort()\n",
    "\n",
    "s1 = Counter(s1)\n",
    "counter=0\n",
    "for i in s2:\n",
    "    if i in s1.keys() and s1[i]>0:\n",
    "        s1[i]-=1\n",
    "        counter+=1\n",
    "    else:\n",
    "        del s1[i]"
   ]
  },
  {
   "cell_type": "code",
   "execution_count": 395,
   "metadata": {},
   "outputs": [
    {
     "data": {
      "text/plain": [
       "5"
      ]
     },
     "execution_count": 395,
     "metadata": {},
     "output_type": "execute_result"
    }
   ],
   "source": [
    "counter"
   ]
  },
  {
   "cell_type": "code",
   "execution_count": 402,
   "metadata": {},
   "outputs": [],
   "source": [
    "# row 0 = 0, column 0  = 0\n",
    "l1 = len(s1)\n",
    "l2 = len(s2)\n",
    "# we only need history of previous row\n",
    "lcs = [[0]*(len(s1)+1) for _ in range(2)]"
   ]
  },
  {
   "cell_type": "code",
   "execution_count": 407,
   "metadata": {},
   "outputs": [
    {
     "data": {
      "text/plain": [
       "10"
      ]
     },
     "execution_count": 407,
     "metadata": {},
     "output_type": "execute_result"
    }
   ],
   "source": [
    "l1"
   ]
  },
  {
   "cell_type": "code",
   "execution_count": 411,
   "metadata": {},
   "outputs": [
    {
     "name": "stdout",
     "output_type": "stream",
     "text": [
      "---------------\n",
      "1\n",
      "0\n",
      "---------------\n",
      "0\n",
      "1\n",
      "---------------\n",
      "1\n",
      "0\n",
      "---------------\n",
      "0\n",
      "1\n",
      "F\n",
      "---------------\n",
      "1\n",
      "0\n",
      "---------------\n",
      "0\n",
      "1\n",
      "M\n",
      "---------------\n",
      "1\n",
      "0\n",
      "Y\n",
      "---------------\n",
      "0\n",
      "1\n",
      "M\n",
      "---------------\n",
      "1\n",
      "0\n",
      "A\n",
      "---------------\n",
      "0\n",
      "1\n",
      "W\n",
      "5\n"
     ]
    }
   ],
   "source": [
    "\n",
    "#lcs_letters = [['']*(len(s1)+1) for _ in range(2)]\n",
    "\n",
    "# i in s1 = i+1 in lcs\n",
    "for i in range(l1):\n",
    "    print('---------------')\n",
    "    # get index pointers for current and previous row\n",
    "    li1 = (i+1)%2\n",
    "    print(li1)\n",
    "    li = i%2\n",
    "    print(li)\n",
    "    # j in s1 = j+1 in lcs\n",
    "    for j in range(l2):\n",
    "        # i and j are used to step forward in each string.\n",
    "        # Now check if s1[i] and s2[j] are equal \n",
    "        if s1[i] == s2[j]:\n",
    "            print(s1[i])\n",
    "            # Now we have found one longer sequence \n",
    "            # than what we had previously found.\n",
    "            # so add 1 to the length of previous longest\n",
    "            # sequence which we could have found at\n",
    "            # earliest previous position of each string,\n",
    "            # therefore subtract -1 from both i and j\n",
    "            lcs[li1][j+1] = (lcs[li][j] + 1) \n",
    "            #lcs_letters[li1][j+1] = lcs_letters[li][j]+s1[li]\n",
    "\n",
    "        # if not matching pair, then\n",
    "        # get the biggest previous value\n",
    "        elif lcs[li1][j] > lcs[li][j+1]:\n",
    "            lcs[li1][j+1] = lcs[li1][j] \n",
    "            #lcs_letters[li1][j+1] = lcs_letters[li1][j]\n",
    "        else:\n",
    "            lcs[li1][j+1] = lcs[li][j+1] \n",
    "            #lcs_letters[li1][j+1] = lcs_letters[li][j+1]\n",
    "#print(lcs_letters[(i+1)%2][j+1])\n",
    "print(lcs[(i+1)%2][j+1])"
   ]
  },
  {
   "cell_type": "code",
   "execution_count": 390,
   "metadata": {},
   "outputs": [],
   "source": [
    "del(s1['A'])"
   ]
  },
  {
   "cell_type": "code",
   "execution_count": null,
   "metadata": {},
   "outputs": [],
   "source": []
  }
 ],
 "metadata": {
  "kernelspec": {
   "display_name": "Python 3",
   "language": "python",
   "name": "python3"
  },
  "language_info": {
   "codemirror_mode": {
    "name": "ipython",
    "version": 3
   },
   "file_extension": ".py",
   "mimetype": "text/x-python",
   "name": "python",
   "nbconvert_exporter": "python",
   "pygments_lexer": "ipython3",
   "version": "3.7.4"
  }
 },
 "nbformat": 4,
 "nbformat_minor": 4
}
